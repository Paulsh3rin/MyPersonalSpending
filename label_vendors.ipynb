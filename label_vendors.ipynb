{
 "cells": [
  {
   "cell_type": "code",
   "execution_count": 4,
   "metadata": {},
   "outputs": [],
   "source": [
    "import pandas as pd\n",
    "import spacy"
   ]
  },
  {
   "cell_type": "code",
   "execution_count": 5,
   "metadata": {},
   "outputs": [],
   "source": [
    "# Load the trained model\n",
    "nlp = spacy.load(\"ner_model\")"
   ]
  },
  {
   "cell_type": "code",
   "execution_count": 6,
   "metadata": {},
   "outputs": [],
   "source": [
    "# Function to predict vendor names in a transaction text and extract only the vendor names\n",
    "def predict_vendor(text):\n",
    "    doc = nlp(text)\n",
    "    for ent in doc.ents:\n",
    "        if ent.label_ == \"VENDOR\":\n",
    "            # Remove the digits and keep only the vendor name\n",
    "            vendor_name = \" \".join([word for word in ent.text.split() if not word.isdigit()])\n",
    "            return vendor_name\n",
    "    return None"
   ]
  },
  {
   "cell_type": "code",
   "execution_count": 7,
   "metadata": {},
   "outputs": [],
   "source": [
    "# Load your dataset\n",
    "file_path = 'RawData/CheqMay23-June24.csv'\n",
    "df = pd.read_csv(file_path)"
   ]
  },
  {
   "cell_type": "code",
   "execution_count": 5,
   "metadata": {},
   "outputs": [],
   "source": [
    "# Apply the prediction function to each row in the dataframe and store the results in a new column\n",
    "df['vendors'] = df['Transaction'].apply(lambda x: predict_vendor(x))\n"
   ]
  },
  {
   "cell_type": "code",
   "execution_count": 6,
   "metadata": {},
   "outputs": [],
   "source": [
    "# Manually label or edit the 'vendors' column where it is 'Unknown' or empty\n",
    "for index, row in df.iterrows():\n",
    "    if row['vendors'] in [None, \"Unknown Vendor\", \"\"]:\n",
    "        # Prompt the user to input the vendor name\n",
    "        user_input = input(f\"Enter vendor name for transaction '{row['Transaction']}': \")\n",
    "        df.at[index, 'vendors'] = user_input if user_input else \"Unknown Vendor\""
   ]
  },
  {
   "cell_type": "code",
   "execution_count": null,
   "metadata": {},
   "outputs": [],
   "source": [
    "df.to_csv('/Users/sherinsmac/MyPersonalSpending/labelled_data/CheqLabelled.csv', index=False)"
   ]
  }
 ],
 "metadata": {
  "kernelspec": {
   "display_name": "menv",
   "language": "python",
   "name": "python3"
  },
  "language_info": {
   "codemirror_mode": {
    "name": "ipython",
    "version": 3
   },
   "file_extension": ".py",
   "mimetype": "text/x-python",
   "name": "python",
   "nbconvert_exporter": "python",
   "pygments_lexer": "ipython3",
   "version": "3.12.4"
  }
 },
 "nbformat": 4,
 "nbformat_minor": 2
}
