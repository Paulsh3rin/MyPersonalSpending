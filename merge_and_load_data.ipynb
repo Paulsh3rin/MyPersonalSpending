{
 "cells": [
  {
   "cell_type": "code",
   "execution_count": 2,
   "metadata": {},
   "outputs": [],
   "source": [
    "import pandas as pd\n",
    "from sqlalchemy import create_engine"
   ]
  },
  {
   "cell_type": "code",
   "execution_count": 5,
   "metadata": {},
   "outputs": [],
   "source": [
    "#filepath\n",
    "cheq_file = \"/workspaces/MyPersonalSpending/RawData/CheqMay23-June24.csv\"\n",
    "cred_file = \"/workspaces/MyPersonalSpending/RawData/CredMay23-June24.csv\"\n",
    "sav_file = \"/workspaces/MyPersonalSpending/RawData/SavMay23-June24.csv\""
   ]
  },
  {
   "cell_type": "code",
   "execution_count": 6,
   "metadata": {},
   "outputs": [],
   "source": [
    "cheq_df = pd.read_csv(cheq_file)\n",
    "cred_df = pd.read_csv(cred_file)\n",
    "sav_df = pd.read_csv(sav_file)"
   ]
  },
  {
   "cell_type": "code",
   "execution_count": 10,
   "metadata": {},
   "outputs": [],
   "source": [
    "# Add 'account' column\n",
    "cheq_df['account'] = 'chequing'\n",
    "cred_df['account'] = 'credit'\n",
    "sav_df['account'] = 'savings'"
   ]
  },
  {
   "cell_type": "code",
   "execution_count": 14,
   "metadata": {},
   "outputs": [],
   "source": [
    "cheq_df.to_csv(cheq_file, index=False)\n",
    "cred_df.to_csv(cred_file, index=False)\n",
    "sav_df.to_csv(sav_file, index=False)"
   ]
  }
 ],
 "metadata": {
  "kernelspec": {
   "display_name": ".venv",
   "language": "python",
   "name": "python3"
  },
  "language_info": {
   "codemirror_mode": {
    "name": "ipython",
    "version": 3
   },
   "file_extension": ".py",
   "mimetype": "text/x-python",
   "name": "python",
   "nbconvert_exporter": "python",
   "pygments_lexer": "ipython3",
   "version": "3.10.13"
  }
 },
 "nbformat": 4,
 "nbformat_minor": 2
}
