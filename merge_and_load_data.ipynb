{
 "cells": [
  {
   "cell_type": "code",
   "execution_count": 41,
   "metadata": {},
   "outputs": [],
   "source": [
    "import pandas as pd\n",
    "from sqlalchemy import create_engine"
   ]
  },
  {
   "cell_type": "code",
   "execution_count": 42,
   "metadata": {},
   "outputs": [],
   "source": [
    "#filepath\n",
    "cheq_file = \"/Users/sherinsmac/Documents/Projects/PersonalSpending/RawData/CheqMay23-June24.csv\" \n",
    "cred_file = \"/Users/sherinsmac/Documents/Projects/PersonalSpending/RawData/CredMay23-June24.csv\"\n",
    "sav_file = \"/Users/sherinsmac/Documents/Projects/PersonalSpending/RawData/SavMay23-June24.csv\""
   ]
  },
  {
   "cell_type": "code",
   "execution_count": 43,
   "metadata": {},
   "outputs": [],
   "source": [
    "cheq_df = pd.read_csv(cheq_file)\n",
    "cred_df = pd.read_csv(cred_file)\n",
    "sav_df = pd.read_csv(sav_file)\n",
    "    \n",
    "    # # Add 'account' column\n",
    "    # cheq_df['account'] = 'chequing'\n",
    "    # cred_df['account'] = 'credit'\n",
    "    # sav_df['account'] = 'savings'"
   ]
  },
  {
   "cell_type": "code",
   "execution_count": 46,
   "metadata": {},
   "outputs": [
    {
     "data": {
      "text/html": [
       "<div>\n",
       "<style scoped>\n",
       "    .dataframe tbody tr th:only-of-type {\n",
       "        vertical-align: middle;\n",
       "    }\n",
       "\n",
       "    .dataframe tbody tr th {\n",
       "        vertical-align: top;\n",
       "    }\n",
       "\n",
       "    .dataframe thead th {\n",
       "        text-align: right;\n",
       "    }\n",
       "</style>\n",
       "<table border=\"1\" class=\"dataframe\">\n",
       "  <thead>\n",
       "    <tr style=\"text-align: right;\">\n",
       "      <th></th>\n",
       "      <th>Date</th>\n",
       "      <th>Transaction</th>\n",
       "      <th>Debit</th>\n",
       "      <th>Credit</th>\n",
       "    </tr>\n",
       "  </thead>\n",
       "  <tbody>\n",
       "    <tr>\n",
       "      <th>0</th>\n",
       "      <td>2024-06-20</td>\n",
       "      <td>Internet Banking INTERNET TRANSFER 000000118084</td>\n",
       "      <td>50.0</td>\n",
       "      <td>NaN</td>\n",
       "    </tr>\n",
       "    <tr>\n",
       "      <th>1</th>\n",
       "      <td>2024-06-06</td>\n",
       "      <td>Internet Banking INTERNET TRANSFER 000000113596</td>\n",
       "      <td>50.0</td>\n",
       "      <td>NaN</td>\n",
       "    </tr>\n",
       "    <tr>\n",
       "      <th>2</th>\n",
       "      <td>2024-06-04</td>\n",
       "      <td>Internet Banking INTERNET TRANSFER 000000108836</td>\n",
       "      <td>100.0</td>\n",
       "      <td>NaN</td>\n",
       "    </tr>\n",
       "    <tr>\n",
       "      <th>3</th>\n",
       "      <td>2024-06-03</td>\n",
       "      <td>Internet Banking INTERNET TRANSFER 000000133312</td>\n",
       "      <td>200.0</td>\n",
       "      <td>NaN</td>\n",
       "    </tr>\n",
       "    <tr>\n",
       "      <th>4</th>\n",
       "      <td>2024-05-31</td>\n",
       "      <td>Branch Transaction INTEREST</td>\n",
       "      <td>NaN</td>\n",
       "      <td>0.31</td>\n",
       "    </tr>\n",
       "  </tbody>\n",
       "</table>\n",
       "</div>"
      ],
      "text/plain": [
       "         Date                                      Transaction  Debit  Credit\n",
       "0  2024-06-20  Internet Banking INTERNET TRANSFER 000000118084   50.0     NaN\n",
       "1  2024-06-06  Internet Banking INTERNET TRANSFER 000000113596   50.0     NaN\n",
       "2  2024-06-04  Internet Banking INTERNET TRANSFER 000000108836  100.0     NaN\n",
       "3  2024-06-03  Internet Banking INTERNET TRANSFER 000000133312  200.0     NaN\n",
       "4  2024-05-31                      Branch Transaction INTEREST    NaN    0.31"
      ]
     },
     "execution_count": 46,
     "metadata": {},
     "output_type": "execute_result"
    }
   ],
   "source": [
    "sav_df.head()"
   ]
  }
 ],
 "metadata": {
  "kernelspec": {
   "display_name": ".venv",
   "language": "python",
   "name": "python3"
  },
  "language_info": {
   "codemirror_mode": {
    "name": "ipython",
    "version": 3
   },
   "file_extension": ".py",
   "mimetype": "text/x-python",
   "name": "python",
   "nbconvert_exporter": "python",
   "pygments_lexer": "ipython3",
   "version": "3.12.3"
  }
 },
 "nbformat": 4,
 "nbformat_minor": 2
}
